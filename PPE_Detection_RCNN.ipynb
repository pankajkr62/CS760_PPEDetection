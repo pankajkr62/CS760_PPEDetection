{
 "cells": [
  {
   "cell_type": "code",
   "execution_count": 1,
   "metadata": {
    "colab": {
     "base_uri": "https://localhost:8080/"
    },
    "id": "eE8wwonDm4Sj",
    "outputId": "559fedcf-6ab9-4324-fb0e-032dd4ea928e"
   },
   "outputs": [
    {
     "name": "stdout",
     "output_type": "stream",
     "text": [
      "Collecting cppe5\n",
      "  Downloading cppe5-0.1.0-py3-none-any.whl (12 kB)\n",
      "Collecting gdown~=4.2.0\n",
      "  Downloading gdown-4.2.2.tar.gz (13 kB)\n",
      "  Installing build dependencies ... \u001b[?25l\u001b[?25hdone\n",
      "  Getting requirements to build wheel ... \u001b[?25l\u001b[?25hdone\n",
      "    Preparing wheel metadata ... \u001b[?25l\u001b[?25hdone\n",
      "Requirement already satisfied: pycocotools~=2.0.3 in /usr/local/lib/python3.7/dist-packages (from cppe5) (2.0.4)\n",
      "Requirement already satisfied: filelock in /usr/local/lib/python3.7/dist-packages (from gdown~=4.2.0->cppe5) (3.6.0)\n",
      "Requirement already satisfied: beautifulsoup4 in /usr/local/lib/python3.7/dist-packages (from gdown~=4.2.0->cppe5) (4.6.3)\n",
      "Requirement already satisfied: six in /usr/local/lib/python3.7/dist-packages (from gdown~=4.2.0->cppe5) (1.15.0)\n",
      "Requirement already satisfied: tqdm in /usr/local/lib/python3.7/dist-packages (from gdown~=4.2.0->cppe5) (4.64.0)\n",
      "Requirement already satisfied: requests[socks] in /usr/local/lib/python3.7/dist-packages (from gdown~=4.2.0->cppe5) (2.23.0)\n",
      "Requirement already satisfied: matplotlib>=2.1.0 in /usr/local/lib/python3.7/dist-packages (from pycocotools~=2.0.3->cppe5) (3.2.2)\n",
      "Requirement already satisfied: numpy in /usr/local/lib/python3.7/dist-packages (from pycocotools~=2.0.3->cppe5) (1.21.6)\n",
      "Requirement already satisfied: cycler>=0.10 in /usr/local/lib/python3.7/dist-packages (from matplotlib>=2.1.0->pycocotools~=2.0.3->cppe5) (0.11.0)\n",
      "Requirement already satisfied: python-dateutil>=2.1 in /usr/local/lib/python3.7/dist-packages (from matplotlib>=2.1.0->pycocotools~=2.0.3->cppe5) (2.8.2)\n",
      "Requirement already satisfied: kiwisolver>=1.0.1 in /usr/local/lib/python3.7/dist-packages (from matplotlib>=2.1.0->pycocotools~=2.0.3->cppe5) (1.4.2)\n",
      "Requirement already satisfied: pyparsing!=2.0.4,!=2.1.2,!=2.1.6,>=2.0.1 in /usr/local/lib/python3.7/dist-packages (from matplotlib>=2.1.0->pycocotools~=2.0.3->cppe5) (3.0.8)\n",
      "Requirement already satisfied: typing-extensions in /usr/local/lib/python3.7/dist-packages (from kiwisolver>=1.0.1->matplotlib>=2.1.0->pycocotools~=2.0.3->cppe5) (4.2.0)\n",
      "Requirement already satisfied: idna<3,>=2.5 in /usr/local/lib/python3.7/dist-packages (from requests[socks]->gdown~=4.2.0->cppe5) (2.10)\n",
      "Requirement already satisfied: certifi>=2017.4.17 in /usr/local/lib/python3.7/dist-packages (from requests[socks]->gdown~=4.2.0->cppe5) (2021.10.8)\n",
      "Requirement already satisfied: chardet<4,>=3.0.2 in /usr/local/lib/python3.7/dist-packages (from requests[socks]->gdown~=4.2.0->cppe5) (3.0.4)\n",
      "Requirement already satisfied: urllib3!=1.25.0,!=1.25.1,<1.26,>=1.21.1 in /usr/local/lib/python3.7/dist-packages (from requests[socks]->gdown~=4.2.0->cppe5) (1.24.3)\n",
      "Requirement already satisfied: PySocks!=1.5.7,>=1.5.6 in /usr/local/lib/python3.7/dist-packages (from requests[socks]->gdown~=4.2.0->cppe5) (1.7.1)\n",
      "Building wheels for collected packages: gdown\n",
      "  Building wheel for gdown (PEP 517) ... \u001b[?25l\u001b[?25hdone\n",
      "  Created wheel for gdown: filename=gdown-4.2.2-py3-none-any.whl size=14495 sha256=cdd70b27ccb03cabf4c01910c89f6e0b2530ce268e66e48f6edfc0dcfe15427b\n",
      "  Stored in directory: /root/.cache/pip/wheels/a3/53/90/1645445c55828e0123d2d8ef01373697684ab621c917dd480b\n",
      "Successfully built gdown\n",
      "Installing collected packages: gdown, cppe5\n",
      "  Attempting uninstall: gdown\n",
      "    Found existing installation: gdown 4.4.0\n",
      "    Uninstalling gdown-4.4.0:\n",
      "      Successfully uninstalled gdown-4.4.0\n",
      "Successfully installed cppe5-0.1.0 gdown-4.2.2\n"
     ]
    }
   ],
   "source": [
    "# Installing the CPPE-5 package \n",
    "!pip install cppe5"
   ]
  },
  {
   "cell_type": "markdown",
   "metadata": {
    "id": "4UdETbYjHFkV"
   },
   "source": [
    "# Accesing data from google drive , since it is problematic to upload the whole dataset at every runtime in google collab. \n",
    "# Making a folder in google drive and linking it here with code makes it easy to access. Although, we have to give permission everytime, which is pretty easy \n",
    "\n",
    "# Here, i have made a folder \"data\" in the my google drive and have placed my images and annotations in that folder. PFA the screenshot below of the folder structure\n",
    "\n",
    "\n",
    "<img src='https://drive.google.com/uc?id=1IY8udOiOgdgjkWyxNrSxcJbiNYsFp_Lg'>"
   ]
  },
  {
   "cell_type": "code",
   "execution_count": 2,
   "metadata": {
    "colab": {
     "base_uri": "https://localhost:8080/"
    },
    "id": "4Zw9En2xe6wf",
    "outputId": "71484ed8-0f5f-4164-dbea-171069a9e434"
   },
   "outputs": [
    {
     "name": "stdout",
     "output_type": "stream",
     "text": [
      "Mounted at /content/drive\n"
     ]
    }
   ],
   "source": [
    "from google.colab import drive\n",
    "drive.mount('/content/drive')"
   ]
  },
  {
   "cell_type": "code",
   "execution_count": 3,
   "metadata": {
    "colab": {
     "base_uri": "https://localhost:8080/"
    },
    "id": "dgtYWwJkkDHf",
    "outputId": "36f4072c-8929-41f5-a9c2-ae8a607f8cba"
   },
   "outputs": [
    {
     "name": "stdout",
     "output_type": "stream",
     "text": [
      "/content\n"
     ]
    }
   ],
   "source": [
    "import os\n",
    "print(os.getcwd())\n",
    "os.chdir('/content/drive/MyDrive')"
   ]
  },
  {
   "cell_type": "code",
   "execution_count": 4,
   "metadata": {
    "colab": {
     "base_uri": "https://localhost:8080/"
    },
    "id": "_3wHVutHkTj9",
    "outputId": "d94f9703-bbc3-4be5-ad1b-ff988fb7dd05"
   },
   "outputs": [
    {
     "name": "stdout",
     "output_type": "stream",
     "text": [
      "/content/drive/MyDrive\n"
     ]
    }
   ],
   "source": [
    "print(os.getcwd())"
   ]
  },
  {
   "cell_type": "code",
   "execution_count": 5,
   "metadata": {
    "colab": {
     "base_uri": "https://localhost:8080/"
    },
    "id": "xyRB_Q0Ki2xd",
    "outputId": "06b17bc0-185b-43fa-9345-4796f8d146ae"
   },
   "outputs": [
    {
     "name": "stdout",
     "output_type": "stream",
     "text": [
      "Requirement already satisfied: torchvision in /usr/local/lib/python3.7/dist-packages (0.12.0+cu113)\n",
      "Requirement already satisfied: typing-extensions in /usr/local/lib/python3.7/dist-packages (from torchvision) (4.2.0)\n",
      "Requirement already satisfied: requests in /usr/local/lib/python3.7/dist-packages (from torchvision) (2.23.0)\n",
      "Requirement already satisfied: torch==1.11.0 in /usr/local/lib/python3.7/dist-packages (from torchvision) (1.11.0+cu113)\n",
      "Requirement already satisfied: numpy in /usr/local/lib/python3.7/dist-packages (from torchvision) (1.21.6)\n",
      "Requirement already satisfied: pillow!=8.3.*,>=5.3.0 in /usr/local/lib/python3.7/dist-packages (from torchvision) (7.1.2)\n",
      "Requirement already satisfied: urllib3!=1.25.0,!=1.25.1,<1.26,>=1.21.1 in /usr/local/lib/python3.7/dist-packages (from requests->torchvision) (1.24.3)\n",
      "Requirement already satisfied: certifi>=2017.4.17 in /usr/local/lib/python3.7/dist-packages (from requests->torchvision) (2021.10.8)\n",
      "Requirement already satisfied: idna<3,>=2.5 in /usr/local/lib/python3.7/dist-packages (from requests->torchvision) (2.10)\n",
      "Requirement already satisfied: chardet<4,>=3.0.2 in /usr/local/lib/python3.7/dist-packages (from requests->torchvision) (3.0.4)\n"
     ]
    }
   ],
   "source": [
    "!pip install --upgrade torchvision"
   ]
  },
  {
   "cell_type": "code",
   "execution_count": 6,
   "metadata": {
    "colab": {
     "base_uri": "https://localhost:8080/"
    },
    "id": "YFpnWiMie9E8",
    "outputId": "c93d4ed3-fdb4-4379-941f-ac90c4c6f3dd"
   },
   "outputs": [
    {
     "name": "stdout",
     "output_type": "stream",
     "text": [
      "/content/drive/MyDrive\n",
      "loading annotations into memory...\n",
      "Done (t=0.67s)\n",
      "creating index...\n",
      "index created!\n",
      "<torch.utils.data.dataloader.DataLoader object at 0x7f11ce09ecd0>\n"
     ]
    }
   ],
   "source": [
    "print(os.getcwd())\n",
    "import os\n",
    "import cppe5\n",
    "from cppe5.torch import data_loader\n",
    "import torch\n",
    "import matplotlib.pyplot as plt\n",
    "import torchvision\n",
    "\n",
    "from PIL import Image\n",
    "import torchvision.transforms as transforms\n",
    "import numpy as np\n",
    "\n",
    "data_loader = cppe5.torch.data_loader() # torch.utils.data.DataLoader\n",
    "print(data_loader)"
   ]
  },
  {
   "cell_type": "code",
   "execution_count": 7,
   "metadata": {
    "colab": {
     "base_uri": "https://localhost:8080/"
    },
    "id": "o_9wVWuBl33Y",
    "outputId": "ae16472c-50b8-426f-a2f6-ea78a5f7adec"
   },
   "outputs": [
    {
     "name": "stdout",
     "output_type": "stream",
     "text": [
      "cuda\n"
     ]
    }
   ],
   "source": [
    "# Get the GPU\n",
    "device = torch.device(\"cuda\") if torch.cuda.is_available() else torch.device(\"cpu\")\n",
    "print(device)"
   ]
  },
  {
   "cell_type": "code",
   "execution_count": 8,
   "metadata": {
    "colab": {
     "base_uri": "https://localhost:8080/"
    },
    "id": "RZJ_KjUK6-ui",
    "outputId": "af35049a-e47c-4b34-acac-456795f4b85a"
   },
   "outputs": [
    {
     "name": "stdout",
     "output_type": "stream",
     "text": [
      "Fri May  6 05:52:55 2022       \n",
      "+-----------------------------------------------------------------------------+\n",
      "| NVIDIA-SMI 460.32.03    Driver Version: 460.32.03    CUDA Version: 11.2     |\n",
      "|-------------------------------+----------------------+----------------------+\n",
      "| GPU  Name        Persistence-M| Bus-Id        Disp.A | Volatile Uncorr. ECC |\n",
      "| Fan  Temp  Perf  Pwr:Usage/Cap|         Memory-Usage | GPU-Util  Compute M. |\n",
      "|                               |                      |               MIG M. |\n",
      "|===============================+======================+======================|\n",
      "|   0  Tesla T4            Off  | 00000000:00:04.0 Off |                    0 |\n",
      "| N/A   35C    P8     9W /  70W |      3MiB / 15109MiB |      0%      Default |\n",
      "|                               |                      |                  N/A |\n",
      "+-------------------------------+----------------------+----------------------+\n",
      "                                                                               \n",
      "+-----------------------------------------------------------------------------+\n",
      "| Processes:                                                                  |\n",
      "|  GPU   GI   CI        PID   Type   Process name                  GPU Memory |\n",
      "|        ID   ID                                                   Usage      |\n",
      "|=============================================================================|\n",
      "|  No running processes found                                                 |\n",
      "+-----------------------------------------------------------------------------+\n"
     ]
    }
   ],
   "source": [
    "!nvidia-smi"
   ]
  },
  {
   "cell_type": "code",
   "execution_count": null,
   "metadata": {},
   "outputs": [],
   "source": [
    "## In case you want to use Faster-RCNN model with Resnet-50 model \n",
    "## Please uncomment the below code in next cell and comment the code in next to next cell"
   ]
  },
  {
   "cell_type": "code",
   "execution_count": null,
   "metadata": {},
   "outputs": [],
   "source": [
    "# def get_model_instance_segmentation(num_classes): \n",
    "#     # model 1\n",
    "#     model = torchvision.models.detection.fasterrcnn_resnet50_fpn(pretrained=False)\n",
    "#     in_features = model.roi_heads.box_predictor.cls_score.in_features\n",
    "#     model.roi_heads.box_predictor = (\n",
    "#         torchvision.models.detection.faster_rcnn.FastRCNNPredictor(\n",
    "#             in_features, num_classes\n",
    "#         )\n",
    "#     )\n",
    "    \n",
    "#     return model"
   ]
  },
  {
   "cell_type": "code",
   "execution_count": null,
   "metadata": {},
   "outputs": [],
   "source": [
    "## In case you want to use Faster-RCNN model with Mobilenet model \n",
    "## Please uncomment the below code in next cell and comment the code in previous cell "
   ]
  },
  {
   "cell_type": "code",
   "execution_count": 11,
   "metadata": {
    "id": "t6cywWXxLGxA"
   },
   "outputs": [],
   "source": [
    "from torchvision.models.detection import FasterRCNN\n",
    "from torchvision.models.detection.rpn import AnchorGenerator\n",
    "# load a pre-trained model for classification and return\n",
    "# only the features\n",
    "backbone = torchvision.models.mobilenet_v2(pretrained=True).features\n",
    "# FasterRCNN needs to know the number of\n",
    "# output channels in a backbone. For mobilenet_v2, it's 1280\n",
    "# so we need to add it here\n",
    "backbone.out_channels = 1280\n",
    "\n",
    "# let's make the RPN generate 5 x 3 anchors per spatial\n",
    "# location, with 5 different sizes and 3 different aspect\n",
    "# ratios. We have a Tuple[Tuple[int]] because each feature\n",
    "# map could potentially have different sizes and\n",
    "# aspect ratios\n",
    "anchor_generator = AnchorGenerator(sizes=((32, 64, 128, 256, 512),),\n",
    "                                   aspect_ratios=((0.5, 1.0, 2.0),))\n",
    "\n",
    "# let's define what are the feature maps that we will\n",
    "# use to perform the region of interest cropping, as well as\n",
    "# the size of the crop after rescaling.\n",
    "# if your backbone returns a Tensor, featmap_names is expected to\n",
    "# be [0]. More generally, the backbone should return an\n",
    "# OrderedDict[Tensor], and in featmap_names you can choose which\n",
    "# feature maps to use.\n",
    "roi_pooler = torchvision.ops.MultiScaleRoIAlign(featmap_names=['0'],\n",
    "                                                output_size=7,\n",
    "                                                sampling_ratio=2)\n",
    "\n",
    "# put the pieces together inside a FasterRCNN model\n",
    "model = FasterRCNN(backbone,\n",
    "                   num_classes=2,\n",
    "                   rpn_anchor_generator=anchor_generator,\n",
    "                   box_roi_pool=roi_pooler)"
   ]
  },
  {
   "cell_type": "markdown",
   "metadata": {
    "id": "fzeHmsR3KYRP"
   },
   "source": [
    "# Defining number of classes "
   ]
  },
  {
   "cell_type": "code",
   "execution_count": 12,
   "metadata": {
    "id": "EvYwL-_RLo33"
   },
   "outputs": [],
   "source": [
    "num_classes = 5"
   ]
  },
  {
   "cell_type": "code",
   "execution_count": 13,
   "metadata": {
    "id": "9iCKIA4HqT3l"
   },
   "outputs": [],
   "source": [
    "# move model to the right device\n",
    "model.to(device)\n",
    "\n",
    "# parameters\n",
    "params = [p for p in model.parameters() if p.requires_grad]\n",
    "optimizer = torch.optim.SGD(params, lr=0.005, momentum=0.9, weight_decay=0.0005)\n",
    "\n",
    "len_dataloader = len(data_loader)"
   ]
  },
  {
   "cell_type": "code",
   "execution_count": null,
   "metadata": {
    "colab": {
     "base_uri": "https://localhost:8080/"
    },
    "id": "-dudWOkFog0B",
    "outputId": "ef1bda34-850f-443e-d69f-0ef1df924b09"
   },
   "outputs": [
    {
     "name": "stdout",
     "output_type": "stream",
     "text": [
      " Epoch count : 0\n",
      "\n",
      "\n",
      "\n",
      "\n",
      "epoch: 0/100, Loss: 0.5621883273124695\n",
      " Epoch count : 1\n",
      "\n",
      "epoch: 1/100, Loss: 0.8406716585159302\n",
      " Epoch count : 2\n",
      "\n",
      "epoch: 2/100, Loss: 0.5195844769477844\n",
      " Epoch count : 3\n",
      "\n",
      "\n",
      "\n",
      "epoch: 3/100, Loss: 0.6648622155189514\n",
      " Epoch count : 4\n",
      "\n",
      "\n",
      "\n",
      "\n",
      "\n",
      "epoch: 4/100, Loss: 0.5250364542007446\n",
      " Epoch count : 5\n",
      "\n",
      "\n",
      "\n",
      "\n",
      "\n",
      "\n",
      "epoch: 5/100, Loss: 0.5835452079772949\n",
      " Epoch count : 6\n",
      "\n",
      "\n",
      "epoch: 6/100, Loss: 0.7738067507743835\n",
      " Epoch count : 7\n",
      "\n",
      "\n",
      "\n",
      "\n",
      "epoch: 7/100, Loss: 0.48052576184272766\n",
      " Epoch count : 8\n",
      "\n",
      "\n",
      "epoch: 8/100, Loss: 0.5596948266029358\n",
      " Epoch count : 9\n",
      "\n",
      "\n",
      "epoch: 9/100, Loss: 0.5364624857902527\n",
      " Epoch count : 10\n",
      "\n",
      "\n",
      "\n",
      "\n",
      "epoch: 10/100, Loss: 0.6069017052650452\n",
      " Epoch count : 11\n",
      "\n",
      "\n",
      "epoch: 11/100, Loss: 0.4861202538013458\n",
      " Epoch count : 12\n",
      "\n",
      "\n",
      "\n",
      "epoch: 12/100, Loss: 0.47871363162994385\n",
      " Epoch count : 13\n",
      "\n",
      "\n",
      "\n",
      "\n",
      "epoch: 13/100, Loss: 0.4857947826385498\n",
      " Epoch count : 14\n",
      "\n",
      "\n",
      "\n",
      "\n",
      "\n",
      "\n",
      "\n",
      "epoch: 14/100, Loss: 0.47582775354385376\n",
      " Epoch count : 15\n",
      "\n",
      "epoch: 15/100, Loss: 0.45345547795295715\n",
      " Epoch count : 16\n",
      "\n",
      "\n",
      "epoch: 16/100, Loss: 0.6602156758308411\n",
      " Epoch count : 17\n",
      "\n",
      "epoch: 17/100, Loss: 0.45739316940307617\n",
      " Epoch count : 18\n",
      "\n",
      "\n",
      "epoch: 18/100, Loss: 0.6140146255493164\n",
      " Epoch count : 19\n",
      "\n",
      "\n",
      "\n",
      "\n",
      "\n",
      "epoch: 19/100, Loss: 0.4122678339481354\n",
      " Epoch count : 20\n",
      "\n",
      "\n",
      "\n",
      "epoch: 20/100, Loss: 0.4176102876663208\n",
      " Epoch count : 21\n",
      "\n",
      "\n",
      "\n",
      "epoch: 21/100, Loss: 0.45574650168418884\n",
      " Epoch count : 22\n",
      "\n",
      "\n",
      "\n",
      "epoch: 22/100, Loss: 0.45634040236473083\n",
      " Epoch count : 23\n",
      "\n",
      "\n",
      "\n",
      "\n",
      "\n",
      "epoch: 23/100, Loss: 0.4708755314350128\n",
      " Epoch count : 24\n",
      "\n",
      "\n",
      "epoch: 24/100, Loss: 0.41525909304618835\n",
      " Epoch count : 25\n",
      "\n",
      "epoch: 25/100, Loss: 0.435529500246048\n",
      " Epoch count : 26\n",
      "\n",
      "\n",
      "epoch: 26/100, Loss: 0.5999412536621094\n",
      " Epoch count : 27\n",
      "\n",
      "epoch: 27/100, Loss: 0.49274852871894836\n",
      " Epoch count : 28\n",
      "\n",
      "epoch: 28/100, Loss: 0.5050528645515442\n",
      " Epoch count : 29\n",
      "\n",
      "epoch: 29/100, Loss: 0.43247413635253906\n",
      " Epoch count : 30\n",
      "\n",
      "epoch: 30/100, Loss: 0.39316612482070923\n",
      " Epoch count : 31\n",
      "\n",
      "\n",
      "\n",
      "epoch: 31/100, Loss: 0.4210011661052704\n",
      " Epoch count : 32\n",
      "\n",
      "\n",
      "\n",
      "\n",
      "epoch: 32/100, Loss: 0.4088675081729889\n",
      " Epoch count : 33\n",
      "\n",
      "epoch: 33/100, Loss: 0.4125467836856842\n",
      " Epoch count : 34\n",
      "\n",
      "\n",
      "\n",
      "epoch: 34/100, Loss: 0.42484650015830994\n",
      " Epoch count : 35\n",
      "\n",
      "epoch: 35/100, Loss: 0.4281300902366638\n",
      " Epoch count : 36\n",
      "\n",
      "\n",
      "epoch: 36/100, Loss: 0.5624262690544128\n",
      " Epoch count : 37\n",
      "\n",
      "\n",
      "\n",
      "\n",
      "epoch: 37/100, Loss: 0.36525648832321167\n",
      " Epoch count : 38\n",
      "\n",
      "epoch: 38/100, Loss: 0.43895649909973145\n",
      " Epoch count : 39\n",
      "\n",
      "\n",
      "\n",
      "\n",
      "epoch: 39/100, Loss: 0.6306743621826172\n",
      " Epoch count : 40\n",
      "epoch: 40/100, Loss: 0.3775504231452942\n",
      " Epoch count : 41\n",
      "\n",
      "\n",
      "epoch: 41/100, Loss: 0.4145497977733612\n",
      " Epoch count : 42\n",
      "\n",
      "\n",
      "epoch: 42/100, Loss: 0.40218639373779297\n",
      " Epoch count : 43\n",
      "\n",
      "epoch: 43/100, Loss: 0.3792472183704376\n",
      " Epoch count : 44\n",
      "\n",
      "\n",
      "epoch: 44/100, Loss: 0.38362351059913635\n",
      " Epoch count : 45\n",
      "\n",
      "epoch: 45/100, Loss: 0.7765657901763916\n",
      " Epoch count : 46\n",
      "\n",
      "\n",
      "\n",
      "\n",
      "\n",
      "epoch: 46/100, Loss: 0.3627980649471283\n",
      " Epoch count : 47\n",
      "\n",
      "\n",
      "\n",
      "\n",
      "epoch: 47/100, Loss: 0.3660826086997986\n",
      " Epoch count : 48\n",
      "\n",
      "\n",
      "\n",
      "\n",
      "\n",
      "\n",
      "\n",
      "\n",
      "epoch: 48/100, Loss: 0.3248271942138672\n",
      " Epoch count : 49\n",
      "\n",
      "\n",
      "epoch: 49/100, Loss: 0.5784180760383606\n",
      " Epoch count : 50\n",
      "\n",
      "\n",
      "\n",
      "\n",
      "\n",
      "epoch: 50/100, Loss: 0.37873944640159607\n",
      " Epoch count : 51\n",
      "\n",
      "\n",
      "epoch: 51/100, Loss: 0.7274852991104126\n",
      " Epoch count : 52\n",
      "\n",
      "\n",
      "\n",
      "epoch: 52/100, Loss: 0.5497291088104248\n",
      " Epoch count : 53\n",
      "\n",
      "\n",
      "\n",
      "epoch: 53/100, Loss: 0.37010669708251953\n",
      " Epoch count : 54\n",
      "\n",
      "epoch: 54/100, Loss: 0.3643440902233124\n",
      " Epoch count : 55\n",
      "\n",
      "\n",
      "epoch: 55/100, Loss: 0.3572135865688324\n",
      " Epoch count : 56\n",
      "\n",
      "\n",
      "\n",
      "epoch: 56/100, Loss: 0.39180541038513184\n",
      " Epoch count : 57\n",
      "\n",
      "epoch: 57/100, Loss: 0.5422624349594116\n",
      " Epoch count : 58\n",
      "\n",
      "\n",
      "\n",
      "epoch: 58/100, Loss: 0.3607308268547058\n",
      " Epoch count : 59\n",
      "epoch: 59/100, Loss: 0.3310924470424652\n",
      " Epoch count : 60\n",
      "\n",
      "\n",
      "epoch: 60/100, Loss: 0.3369503915309906\n",
      " Epoch count : 61\n",
      "\n",
      "\n",
      "epoch: 61/100, Loss: 0.3652208745479584\n",
      " Epoch count : 62\n",
      "\n",
      "\n",
      "\n",
      "epoch: 62/100, Loss: 0.33040326833724976\n",
      " Epoch count : 63\n",
      "\n",
      "epoch: 63/100, Loss: 0.34530404210090637\n",
      " Epoch count : 64\n",
      "\n",
      "\n",
      "\n",
      "epoch: 64/100, Loss: 0.3657749593257904\n",
      " Epoch count : 65\n",
      "\n",
      "\n",
      "\n",
      "epoch: 65/100, Loss: 0.3177924156188965\n",
      " Epoch count : 66\n",
      "\n",
      "\n",
      "\n",
      "epoch: 66/100, Loss: 0.31471121311187744\n",
      " Epoch count : 67\n",
      "\n",
      "epoch: 67/100, Loss: 0.32000914216041565\n",
      " Epoch count : 68\n",
      "\n",
      "epoch: 68/100, Loss: 0.3414115905761719\n",
      " Epoch count : 69\n",
      "epoch: 69/100, Loss: 0.27307289838790894\n",
      " Epoch count : 70\n",
      "\n",
      "\n",
      "\n",
      "\n",
      "\n",
      "epoch: 70/100, Loss: 0.32806429266929626\n",
      " Epoch count : 71\n",
      "\n",
      "\n",
      "epoch: 71/100, Loss: 0.2907841205596924\n",
      " Epoch count : 72\n",
      "\n",
      "epoch: 72/100, Loss: 0.33798933029174805\n",
      " Epoch count : 73\n",
      "\n",
      "\n",
      "epoch: 73/100, Loss: 0.3473363220691681\n",
      " Epoch count : 74\n",
      "epoch: 74/100, Loss: 0.32130974531173706\n",
      " Epoch count : 75\n",
      "\n",
      "\n",
      "\n",
      "epoch: 75/100, Loss: 0.32435694336891174\n",
      " Epoch count : 76\n",
      "\n",
      "epoch: 76/100, Loss: 0.5529722571372986\n",
      " Epoch count : 77\n",
      "\n",
      "epoch: 77/100, Loss: 0.35135653614997864\n",
      " Epoch count : 78\n",
      "\n",
      "\n",
      "\n",
      "epoch: 78/100, Loss: 0.523674488067627\n",
      " Epoch count : 79\n",
      "\n",
      "epoch: 79/100, Loss: 0.34256577491760254\n",
      " Epoch count : 80\n",
      "\n",
      "\n",
      "\n",
      "\n",
      "epoch: 80/100, Loss: 0.31484678387641907\n",
      " Epoch count : 81\n",
      "\n",
      "\n",
      "\n",
      "epoch: 81/100, Loss: 0.2603158950805664\n",
      " Epoch count : 82\n",
      "\n",
      "\n",
      "epoch: 82/100, Loss: 0.3081015348434448\n",
      " Epoch count : 83\n",
      "\n",
      "\n",
      "epoch: 83/100, Loss: 0.3325061798095703\n",
      " Epoch count : 84\n",
      "\n",
      "\n",
      "epoch: 84/100, Loss: 0.34646663069725037\n",
      " Epoch count : 85\n",
      "\n",
      "\n",
      "\n",
      "epoch: 85/100, Loss: 0.2876989245414734\n",
      " Epoch count : 86\n",
      "\n",
      "\n",
      "\n",
      "\n",
      "\n",
      "epoch: 86/100, Loss: 0.3398398756980896\n",
      " Epoch count : 87\n",
      "\n",
      "\n",
      "\n",
      "\n",
      "epoch: 87/100, Loss: 0.5318050980567932\n",
      " Epoch count : 88\n",
      "\n",
      "\n",
      "\n",
      "epoch: 88/100, Loss: 0.2444259524345398\n",
      " Epoch count : 89\n",
      "\n",
      "\n",
      "\n",
      "epoch: 89/100, Loss: 0.28487080335617065\n",
      " Epoch count : 90\n",
      "\n",
      "\n",
      "\n",
      "epoch: 90/100, Loss: 0.2794428765773773\n",
      " Epoch count : 91\n",
      "\n",
      "\n",
      "\n",
      "epoch: 91/100, Loss: 0.32338589429855347\n",
      " Epoch count : 92\n",
      "\n",
      "epoch: 92/100, Loss: 0.3000109791755676\n",
      " Epoch count : 93\n",
      "\n",
      "\n",
      "\n",
      "\n",
      "epoch: 93/100, Loss: 0.3055599629878998\n",
      " Epoch count : 94\n"
     ]
    }
   ],
   "source": [
    "loss_plot = []\n",
    "count = []\n",
    "epoch_loss = 0\n",
    "num_epochs = 100\n",
    "for epoch in range(num_epochs):\n",
    "    model.train()\n",
    "    image_count = 0\n",
    "    average_loss = 0\n",
    "    loc_count = 0\n",
    "    print(\" Epoch count : \"+str(epoch))\n",
    "    for imgs, annotations in data_loader: \n",
    "      imgs = list(img.to(device) for img in imgs)\n",
    "      annotations = [{k: v.to(device) for k, v in t.items()} for t in annotations]\n",
    "      image_count += 1\n",
    "      if(image_count == 100):\n",
    "        break;\n",
    "      if(image_count % 100 == 0):\n",
    "        print(image_count)\n",
    "      try:\n",
    "        loss_dict = model(imgs, annotations)\n",
    "        #print(loss_dict)\n",
    "        sum_loss = 0\n",
    "        for loss in loss_dict.values():\n",
    "          sum_loss += loss\n",
    "        losses = sum_loss\n",
    "        average_loss += losses\n",
    "        loc_count += 1\n",
    "        optimizer.zero_grad()\n",
    "        losses.backward()\n",
    "        optimizer.step()\n",
    "      except RuntimeError:\n",
    "        print(\"\")\n",
    "    epoch_loss = average_loss/loc_count;\n",
    "    loss_plot.append(epoch_loss)\n",
    "    count.append(epoch)\n",
    "    print(f\"epoch: {epoch}/{num_epochs}, Loss: {epoch_loss}\")"
   ]
  },
  {
   "cell_type": "code",
   "execution_count": 18,
   "metadata": {
    "id": "t2x5jvUEWoT_"
   },
   "outputs": [],
   "source": [
    "loss_plot_2 = []\n",
    "loss_plot_orig = []\n",
    "for i in range(len(loss_plot)):\n",
    "  loss_plot_orig.append(loss_plot[i].item())\n",
    "\n",
    "sum = 0;\n",
    "for i in range(len(loss_plot)):\n",
    "  sum += loss_plot[i].item()\n",
    "  loss_plot_2.append(sum/(i+1))\n"
   ]
  },
  {
   "cell_type": "code",
   "execution_count": 19,
   "metadata": {
    "colab": {
     "base_uri": "https://localhost:8080/",
     "height": 313
    },
    "id": "XXxAMusACPph",
    "outputId": "1fc4aad4-e33a-4e39-df58-ee33945f611e"
   },
   "outputs": [
    {
     "data": {
      "text/plain": [
       "Text(0.5, 0, 'Number of Epochs')"
      ]
     },
     "execution_count": 19,
     "metadata": {},
     "output_type": "execute_result"
    },
    {
     "data": {
      "image/png": "[encoded data removed]",
      "text/plain": [
       "<Figure size 432x288 with 1 Axes>"
      ]
     },
     "metadata": {
      "needs_background": "light"
     },
     "output_type": "display_data"
    }
   ],
   "source": [
    "plt.plot(count,loss_plot_2)\n",
    "plt.title('Average Loss Plot: FasterRCNN - MobileNet')\n",
    "plt.ylabel('Loss')\n",
    "plt.xlabel('Number of Epochs')"
   ]
  }
 ],
 "metadata": {
  "accelerator": "GPU",
  "colab": {
   "collapsed_sections": [],
   "name": "RCNN_mobilenet.ipynb",
   "provenance": []
  },
  "kernelspec": {
   "display_name": "Python 3",
   "language": "python",
   "name": "python3"
  },
  "language_info": {
   "codemirror_mode": {
    "name": "ipython",
    "version": 3
   },
   "file_extension": ".py",
   "mimetype": "text/x-python",
   "name": "python",
   "nbconvert_exporter": "python",
   "pygments_lexer": "ipython3",
   "version": "3.7.3"
  }
 },
 "nbformat": 4,
 "nbformat_minor": 1
}
